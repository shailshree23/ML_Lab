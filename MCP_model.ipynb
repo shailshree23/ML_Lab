{
  "nbformat": 4,
  "nbformat_minor": 0,
  "metadata": {
    "colab": {
      "provenance": []
    },
    "kernelspec": {
      "name": "python3",
      "display_name": "Python 3"
    },
    "language_info": {
      "name": "python"
    }
  },
  "cells": [
    {
      "cell_type": "code",
      "source": [
        "def mcp_and(x1,x2):\n",
        "  w1, w2 = 1, 1\n",
        "  theta=2\n",
        "  net_input = w1*x1 + w2*x2\n",
        "  if net_input >= theta:\n",
        "        return 1\n",
        "  else:\n",
        "        return 0\n",
        "\n",
        "\n",
        "print(\"x1 x2 | Output\")\n",
        "for x1 in [0,1]:\n",
        "    for x2 in [0,1]:\n",
        "        print(x1, \" \", x2, \" |   \", mcp_and(x1, x2))"
      ],
      "metadata": {
        "colab": {
          "base_uri": "https://localhost:8080/",
          "height": 0
        },
        "id": "R3hZSMWCEqJP",
        "outputId": "f3b4fb91-ce54-4c34-d267-251742b7c1d4"
      },
      "execution_count": 2,
      "outputs": [
        {
          "output_type": "stream",
          "name": "stdout",
          "text": [
            "x1 x2 | Output\n",
            "0   0  |    0\n",
            "0   1  |    0\n",
            "1   0  |    0\n",
            "1   1  |    1\n"
          ]
        }
      ]
    },
    {
      "cell_type": "code",
      "source": [
        "def mcp_or(x1,x2):\n",
        "  w1=1\n",
        "  w2=1\n",
        "  theta=1\n",
        "  net_input= w1*x1 + w2*x2\n",
        "  if net_input >= theta:\n",
        "    return 1\n",
        "  else:\n",
        "    return 0\n",
        "\n",
        "\n",
        "x1=int(input(\"enter x1\"))\n",
        "x2=int(input(\"enter x2\"))\n",
        "print(\"x1 x2 | Output\")\n",
        "print(x1, \" \", x2, \" | \", mcp_or(x1, x2))\n",
        "\n"
      ],
      "metadata": {
        "colab": {
          "base_uri": "https://localhost:8080/"
        },
        "id": "a6iKTjVSIkS5",
        "outputId": "a3913b6c-0114-439d-9ea8-e7e9aa1e5e05"
      },
      "execution_count": 12,
      "outputs": [
        {
          "output_type": "stream",
          "name": "stdout",
          "text": [
            "enter x11\n",
            "enter x20\n",
            "x1 x2 | Output\n",
            "1   0  |  1\n"
          ]
        }
      ]
    },
    {
      "cell_type": "code",
      "source": [
        "def mcp_and(x1, x2):\n",
        "    w1, w2, theta = 1, 1, 2\n",
        "    return 1 if (w1*x1 + w2*x2) >= theta else 0\n",
        "\n",
        "def mcp_or(x1, x2):\n",
        "    w1, w2, theta = 1, 1, 1\n",
        "    return 1 if (w1*x1 + w2*x2) >= theta else 0\n",
        "\n",
        "def mcp_not(x):\n",
        "  if x==1:\n",
        "    return 0\n",
        "  else:\n",
        "    return 1\n",
        "\n",
        "\n",
        "\n"
      ],
      "metadata": {
        "id": "UOe7YiYiJIVJ"
      },
      "execution_count": 13,
      "outputs": []
    },
    {
      "cell_type": "code",
      "source": [],
      "metadata": {
        "id": "AdfZdwTcO3Cb"
      },
      "execution_count": null,
      "outputs": []
    }
  ]
}